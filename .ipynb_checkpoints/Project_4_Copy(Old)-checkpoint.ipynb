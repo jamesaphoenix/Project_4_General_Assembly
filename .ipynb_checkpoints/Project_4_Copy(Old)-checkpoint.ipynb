{
 "cells": [
  {
   "cell_type": "markdown",
   "metadata": {
    "focus": false,
    "id": "69b9a648-bcc7-490d-9f9b-ea244d156bd6"
   },
   "source": [
    "<img src=\"http://imgur.com/1ZcRyrc.png\" style=\"float: left; margin: 15px; height: 80px\">\n",
    "\n",
    "\n",
    "# Web Scraping for Indeed.com and Predicting Salaries"
   ]
  },
  {
   "cell_type": "markdown",
   "metadata": {
    "focus": false,
    "id": "34681254-c802-462f-829d-8894d0772d08"
   },
   "source": [
    "In this project, we will practice two major skills: collecting data by scraping a website and then building a binary predictor with Logistic Regression.\n",
    "\n",
    "We are going to collect salary information on data science jobs in a variety of markets. Then using the location, title and summary of the job we will attempt to predict the salary of the job. For job posting sites, this would be extraordinarily useful. While most listings DO NOT come with salary information (as you will see in this exercise), being able to extrapolate or predict the expected salaries from other listings can help guide negotiations.\n",
    "\n",
    "Normally, we could use regression for this task; however, we will convert this problem into classification and use Logistic Regression or any other suitable classifier.\n",
    "\n",
    "- Question: Why would we want this to be a classification problem?\n",
    "- Answer: While more precision may be better, there is a fair amount of natural variance in job salaries - predicting a range may be useful.\n",
    "\n",
    "Therefore, the first part of the assignment will be focused on scraping Indeed.com. In the second, we'll focus on using listings with salary information to build a model and predict additional salaries."
   ]
  },
  {
   "cell_type": "markdown",
   "metadata": {
    "focus": false,
    "id": "a948d79c-5527-4c0d-ab23-f5d43ce72056"
   },
   "source": [
    "### Scraping job listings from Indeed.com"
   ]
  },
  {
   "cell_type": "markdown",
   "metadata": {
    "focus": true,
    "id": "7203e0c9-e437-4802-a6ad-7dc464f94436"
   },
   "source": [
    "We will be scraping job listings from Indeed.com using BeautifulSoup. Luckily, Indeed.com is a simple text page where we can easily find relevant entries.\n",
    "\n",
    "First, look at the source of an Indeed.com page: (http://www.indeed.com/jobs?q=data+scientist+%2420%2C000&l=New+York&start=10\").\n",
    "\n",
    "Notice, each job listing is underneath a `div` tag with a class name of `result`. We can use BeautifulSoup to extract those. "
   ]
  },
  {
   "cell_type": "markdown",
   "metadata": {
    "focus": false,
    "id": "9732c901-ae26-4160-8376-42e22dd327df"
   },
   "source": [
    "#### Setup a request (using `requests`) to the URL below. Use BeautifulSoup to parse the page and extract all results (HINT: Look for div tags with class name result)\n",
    "\n",
    "The URL here has many query parameters:\n",
    "\n",
    "- `q` for the job search\n",
    "- This is followed by \"+20,000\" to return results with salaries (or expected salaries >$20,000)\n",
    "- `l` for a location \n",
    "- `start` for what result number to start on"
   ]
  },
  {
   "cell_type": "code",
   "execution_count": 3,
   "metadata": {
    "focus": false,
    "id": "2efefc73-064a-482d-b3b5-ddf5508cb4ec"
   },
   "outputs": [],
   "source": [
    "#Importing Dependencies\n",
    "import requests\n",
    "import bs4\n",
    "from bs4 import BeautifulSoup\n",
    "import numpy as np\n",
    "import pandas as pd\n",
    "import csv\n",
    "\n",
    "#Importing Sci-kit + Stats Models Dependencies\n",
    "from sklearn.model_selection import train_test_split\n",
    "from sklearn.model_selection import StratifiedKFold, cross_val_score\n",
    "\n",
    "#Models\n",
    "from sklearn.linear_model import LogisticRegression, LogisticRegressionCV\n",
    "from sklearn.neighbors import KNeighborsClassifier\n",
    "from sklearn.tree import DecisionTreeClassifier\n",
    "from sklearn.svm import SVC\n",
    "from sklearn.ensemble import RandomForestClassifier, ExtraTreesClassifier\n",
    "from sklearn.naive_bayes import MultinomialNB, ComplementNB\n",
    "\n",
    "#GridSearch\n",
    "from sklearn.model_selection import GridSearchCV\n",
    "\n",
    "#Pre-processing\n",
    "from sklearn.preprocessing import StandardScaler\n",
    "\n",
    "#Scipy Integration for Sparse Matrixes\n",
    "from scipy import sparse\n",
    "\n",
    "#Plotting & Visualisation Metrics\n",
    "from matplotlib import pyplot as plt\n",
    "import seaborn as sns\n",
    "\n",
    "#Scoring & Evaluation Metrics\n",
    "from sklearn.metrics import confusion_matrix, accuracy_score, classification_report, precision_score, f1_score\n",
    "from sklearn.metrics import roc_curve, auc, precision_recall_curve, average_precision_score"
   ]
  },
  {
   "cell_type": "code",
   "execution_count": null,
   "metadata": {
    "focus": false,
    "id": "2c6752c4-7704-4c94-8bc0-6f13d2d0d570"
   },
   "outputs": [],
   "source": [
    "# How to operate a HTTP requests object.\n",
    "\n",
    "base_url = \"http://www.indeed.com/jobs?q=data+scientist+%2420%2C000&l=New+York&start=10\"\n",
    "\n",
    "req = requests.get(base_url)\n",
    "soup = BeautifulSoup(req.text, 'html.parser')\n",
    "results = []\n",
    "\n",
    "for item in soup.find_all('div', class_='jobsearch-SerpJobCard'):\n",
    "    results.append(item)"
   ]
  },
  {
   "cell_type": "code",
   "execution_count": null,
   "metadata": {},
   "outputs": [],
   "source": [
    "# How to operate a HTTP requests object.\n",
    "req = requests.get('https://www.indeed.co.uk/jobs?q=data+science+£40,000&l=London')\n",
    "soup = BeautifulSoup(req.text, 'html.parser')\n",
    "results = []\n",
    "\n",
    "for item in soup.find_all('div', class_='jobsearch-SerpJobCard'):\n",
    "    if item.find('span', class_='salary') is not None:\n",
    "        print('test')\n",
    "    else:\n",
    "        print('no salary')\n",
    "#     results.append(item)\n"
   ]
  },
  {
   "cell_type": "markdown",
   "metadata": {
    "focus": false,
    "id": "bb0b866a-26a7-45e9-8084-5a0f90eb4b3e"
   },
   "source": [
    "Let's look at one result more closely. A single `result` looks like\n",
    "\n",
    "```\n",
    "<div class=\" row result\" data-jk=\"2480d203f7e97210\" data-tn-component=\"organicJob\" id=\"p_2480d203f7e97210\" itemscope=\"\" itemtype=\"http://schema.org/JobPosting\">\n",
    "<h2 class=\"jobtitle\" id=\"jl_2480d203f7e97210\">\n",
    "<a class=\"turnstileLink\" data-tn-element=\"jobTitle\" onmousedown=\"return rclk(this,jobmap[0],1);\" rel=\"nofollow\" target=\"_blank\" title=\"AVP/Quantitative Analyst\">AVP/Quantitative Analyst</a>\n",
    "</h2>\n",
    "<span class=\"company\" itemprop=\"hiringOrganization\" itemtype=\"http://schema.org/Organization\">\n",
    "<span itemprop=\"name\">\n",
    "<a href=\"/cmp/Alliancebernstein?from=SERP&amp;campaignid=serp-linkcompanyname&amp;fromjk=2480d203f7e97210&amp;jcid=b374f2a780e04789\" target=\"_blank\">\n",
    "    AllianceBernstein</a></span>\n",
    "</span>\n",
    "<tr>\n",
    "<td class=\"snip\">\n",
    "<nobr>$117,500 - $127,500 a year</nobr>\n",
    "<div>\n",
    "<span class=\"summary\" itemprop=\"description\">\n",
    "C onduct quantitative and statistical research as well as portfolio management for various investment portfolios. Collaborate with Quantitative Analysts and</span>\n",
    "</div>\n",
    "</div>\n",
    "</td>\n",
    "</tr>\n",
    "</table>\n",
    "</div>\n",
    "```\n",
    "\n",
    "While this has some more verbose elements removed, we can see that there is some structure to the above:\n",
    "- The salary is available in a `nobr` element inside of a `td` element with `class='snip'`.\n",
    "- The title of a job is in a link with class set to `jobtitle` and a `data-tn-element='jobTitle'`.  \n",
    "- The location is set in a `span` with `class='location'`. \n",
    "- The company is set in a `span` with `class='company'`. "
   ]
  },
  {
   "cell_type": "markdown",
   "metadata": {
    "focus": false,
    "id": "f1eddb90-4ba8-483c-a229-77e93aa53119"
   },
   "source": [
    "### Write 4 functions to extract each item: location, company, job, and salary.\n",
    "\n",
    "Example: \n",
    "```python\n",
    "def extract_location_from_result(result):\n",
    "    return result.find ...\n",
    "```\n",
    "\n",
    "\n",
    "- **Make sure these functions are robust and can handle cases where the data/field may not be available.**\n",
    "    - Remember to check if a field is empty or `None` for attempting to call methods on it.\n",
    "    - Remember to use `try/except` if you anticipate errors.\n",
    "- **Test** the functions on the results above and simple examples."
   ]
  },
  {
   "cell_type": "markdown",
   "metadata": {},
   "source": [
    "-----------------------------------------------------------------------------------------------------------------------------"
   ]
  },
  {
   "cell_type": "code",
   "execution_count": null,
   "metadata": {},
   "outputs": [],
   "source": [
    "def extract_salaries(soup, np=np):\n",
    "    salaries = []\n",
    "    for item in soup.find_all('div', class_='jobsearch-SerpJobCard'):\n",
    "        if item.find('span', class_='salary') is not None:\n",
    "            try:\n",
    "                salaries.append(item.find('span', class_='salary').getText().strip().replace('\\n', ''))\n",
    "            except:\n",
    "                salaries.append(np.nan)\n",
    "        else:\n",
    "            pass\n",
    "    return salaries"
   ]
  },
  {
   "cell_type": "code",
   "execution_count": null,
   "metadata": {},
   "outputs": [],
   "source": [
    "def extract_titles(soup, np=np):\n",
    "    titles = []\n",
    "    for item in soup.find_all('div', class_='jobsearch-SerpJobCard'):\n",
    "        if item.find('span', class_='salary') is not None:\n",
    "            try:\n",
    "                titles.append(item.find('div', class_='title').getText().strip())\n",
    "            except:\n",
    "                titles.append(np.nan)\n",
    "        else:\n",
    "            pass\n",
    "    return titles"
   ]
  },
  {
   "cell_type": "code",
   "execution_count": null,
   "metadata": {},
   "outputs": [],
   "source": [
    "def extract_locations(soup, np=np):\n",
    "    locations = []\n",
    "    for item in soup.find_all('div', class_='jobsearch-SerpJobCard'):\n",
    "        if item.find('span', class_='salary') is not None:\n",
    "            try:\n",
    "                locations.append(item.find('span', class_='location').getText().replace('\\n','').strip())\n",
    "            except:\n",
    "                locations.append(np.nan)\n",
    "        else:\n",
    "            pass\n",
    "    return locations"
   ]
  },
  {
   "cell_type": "code",
   "execution_count": null,
   "metadata": {},
   "outputs": [],
   "source": [
    "def extract_companies(soup, np=np):\n",
    "    companies = []\n",
    "    for item in soup.find_all('div', class_='jobsearch-SerpJobCard'):\n",
    "        if item.find('span', class_='salary') is not None:\n",
    "            try:\n",
    "                companies.append(item.find('span', class_='company').getText().replace('\\n','').strip())\n",
    "            except:\n",
    "                companies.append(np.nan)\n",
    "        else:\n",
    "            pass\n",
    "    return companies"
   ]
  },
  {
   "cell_type": "code",
   "execution_count": null,
   "metadata": {},
   "outputs": [],
   "source": [
    "## 🔥🚀 #Let's scrape the companies ratings (the maximum width is 60px so we can use this as 100%) 🔥🚀\n",
    "\n",
    "def extract_ratings(soup, np=np):\n",
    "    import re\n",
    "    ratings = []\n",
    "    for item in soup.find_all('div', class_='jobsearch-SerpJobCard'):\n",
    "        if item.find('span', class_='salary') is not None:\n",
    "            try:\n",
    "                width = item.find('span',class_='rating').attrs['style']\n",
    "                rating = float(findall(':([^p]+)', width)[0])\n",
    "                ratings.append((round(((rating / 60) * 100))))\n",
    "            except:\n",
    "                ratings.append(np.nan)\n",
    "        else:\n",
    "            pass\n",
    "    return ratings    "
   ]
  },
  {
   "cell_type": "code",
   "execution_count": null,
   "metadata": {},
   "outputs": [],
   "source": [
    "# Let's extract all of the delightful ahref <a> links for the individual job listings.\n",
    "\n",
    "def extract_links(soup, np=np):\n",
    "    urls = []\n",
    "    for item in soup.find_all('div', class_='result'):\n",
    "        if item.find('span', class_='salary') is not None:\n",
    "            try:\n",
    "                urls.append('https://www.indeed.com' + item.find('a').attrs['href'])\n",
    "            except:\n",
    "                urls.append(np.nan)\n",
    "        else:\n",
    "            pass\n",
    "    return urls"
   ]
  },
  {
   "cell_type": "markdown",
   "metadata": {},
   "source": [
    "-----------------------------------------------------------------------------------------------------------------------------"
   ]
  },
  {
   "cell_type": "markdown",
   "metadata": {
    "focus": false,
    "id": "34070e89-9521-4b45-90c8-57a6599aac68"
   },
   "source": [
    "Now, to scale up our scraping, we need to accumulate more results. We can do this by examining the URL above.\n",
    "\n",
    "- \"http://www.indeed.com/jobs?q=data+scientist+%2420%2C000&l=New+York&start=10\"\n",
    "\n",
    "There are two query parameters here we can alter to collect more results, the `l=New+York` and the `start=10`. The first controls the location of the results (so we can try a different city). The second controls where in the results to start and gives 10 results (thus, we can keep incrementing by 10 to go further in the list)."
   ]
  },
  {
   "cell_type": "markdown",
   "metadata": {
    "focus": false,
    "id": "e8beed7c-3e42-40c0-810f-5f67f8f885a0"
   },
   "source": [
    "#### Complete the following code to collect results from multiple cities and starting points. \n",
    "- Enter your city below to add it to the search.\n",
    "- Remember to convert your salary to U.S. Dollars to match the other cities if the currency is different."
   ]
  },
  {
   "cell_type": "code",
   "execution_count": null,
   "metadata": {},
   "outputs": [],
   "source": [
    "from IPython.display import clear_output"
   ]
  },
  {
   "cell_type": "code",
   "execution_count": null,
   "metadata": {
    "focus": false,
    "id": "a9aa87ec-3575-4a01-a986-eb684f2c47d0"
   },
   "outputs": [],
   "source": [
    "YOUR_CITY = 'London'"
   ]
  },
  {
   "cell_type": "code",
   "execution_count": null,
   "metadata": {},
   "outputs": [],
   "source": [
    "city_list = ['New+York', 'Chicago', 'San+Francisco', 'Austin', 'Seattle', \n",
    "    'Los+Angeles', 'Philadelphia', 'Atlanta', 'Dallas', 'Pittsburgh', \n",
    "    'Portland', 'Phoenix', 'Denver', 'Houston', 'Miami', YOUR_CITY]"
   ]
  },
  {
   "cell_type": "code",
   "execution_count": null,
   "metadata": {},
   "outputs": [],
   "source": [
    "url_template = \"http://www.indeed.com/jobs?q=data+scientist+%2420%2C000&l={}&start={}\"\n",
    "max_results_per_city = 150 # Set this to a high-value (5000) to generate more results. \n",
    "# Crawling more results, will also take much longer. First test your code on a small number of results and then expand.\n",
    "\n",
    "# results = {\n",
    "#     'Salaries($)': [],\n",
    "#     'Titles': [],\n",
    "#     'Locations': [],\n",
    "#     'Companies': [],\n",
    "#     'Ratings': [],\n",
    "#     'URL_Listings': []\n",
    "# }\n",
    "\n",
    "\n",
    "with open('test.csv', 'a') as f:\n",
    "    w = csv.writer(f)\n",
    "    for city in set(['New+York', 'Chicago', 'San+Francisco', 'Austin', 'Seattle', \n",
    "        'Los+Angeles', 'Philadelphia', 'Atlanta', 'Dallas', 'Pittsburgh', \n",
    "        'Portland', 'Phoenix', 'Denver', 'Houston', 'Miami', YOUR_CITY]):\n",
    "\n",
    "        page_index = 0\n",
    "\n",
    "        for start in range(0, max_results_per_city):\n",
    "            \n",
    "            clear_output(wait=True)\n",
    "            #Let's Create An Index For The URL's.\n",
    "            page_index += 10\n",
    "\n",
    "            #Let's Make The URL Dynamnic Via Formatting.\n",
    "            user_agent = {'User-agent': 'Mozilla/5.0'}\n",
    "            dynamic_url = url_template.format(city, page_index)\n",
    "            req = requests.get(dynamic_url)\n",
    "            soup = BeautifulSoup(req.text, 'html.parser')\n",
    "\n",
    "#             Appending The Results To A Dictionary!\n",
    "#             results['Salaries($)'].extend(extract_salaries(soup))\n",
    "#             results['Titles'].extend(extract_titles(soup))\n",
    "#             results['Locations'].extend(extract_locations(soup))\n",
    "#             results['Companies'].extend(extract_companies(soup))\n",
    "#             results['Ratings'].extend(extract_ratings(soup))\n",
    "#             results['URL_Listings'].extend(extract_links(soup))\n",
    "            \n",
    "            \n",
    "            #This method allows us to save intermediate results for web scraping via a CSVwriterows Append.\n",
    "            data = [list(item) for item in list(zip(extract_salaries(soup),extract_titles(soup)\n",
    "                                                    ,extract_locations(soup), extract_companies(soup),\n",
    "                                                    extract_companies(soup), extract_ratings(soup), \n",
    "                                                    extract_links(soup)))]\n",
    "            w.writerows(data)\n",
    "            print(city, page_index)"
   ]
  },
  {
   "cell_type": "markdown",
   "metadata": {
    "focus": false,
    "id": "20339c09-5032-4e27-91be-286e9b46cd13"
   },
   "source": [
    "#### Use the functions you wrote above to parse out the 4 fields - location, title, company and salary. Create a dataframe from the results with those 4 columns."
   ]
  },
  {
   "cell_type": "code",
   "execution_count": null,
   "metadata": {
    "focus": false,
    "id": "6e259594-1c52-436b-ab9e-527e071941c1"
   },
   "outputs": [],
   "source": [
    "#To avoid Pandas truncating our Listing_URL columns, let's increase the max_colwidth.\n",
    "\n",
    "pd.set_option(\"display.max_colwidth\", 10000)\n",
    "df = pd.DataFrame(results, columns = list(results.keys()))"
   ]
  },
  {
   "cell_type": "markdown",
   "metadata": {
    "focus": false,
    "id": "ff98ce64-78a7-441f-a675-63464e32c834"
   },
   "source": [
    "Lastly, we need to clean up salary data. \n",
    "\n",
    "1. Only a small number of the scraped results have salary information - only these will be used for modeling.\n",
    "1. Some of the salaries are not yearly but hourly or weekly, these will not be useful to us for now.\n",
    "1. Some of the entries may be duplicated.\n",
    "1. The salaries are given as text and usually with ranges."
   ]
  },
  {
   "cell_type": "markdown",
   "metadata": {
    "focus": false,
    "id": "ff98ce64-78a7-441f-a675-63464e32c834"
   },
   "source": [
    "#### Find the entries with annual salary entries, by filtering the entries without salaries or salaries that are not yearly (filter those that refer to hour or week). Also, remove duplicate entries."
   ]
  },
  {
   "cell_type": "code",
   "execution_count": null,
   "metadata": {},
   "outputs": [],
   "source": [
    "#Let's filter out of all of the null salary entries and any entries that contain hour.\n",
    "\n",
    "df = df[(df['Salaries($)'].notnull()) & (df['Salaries($)'].str.contains('hour') == False)]"
   ]
  },
  {
   "cell_type": "markdown",
   "metadata": {
    "focus": false,
    "id": "7d4bc860-b214-4f75-9cd0-b234830b1ec2"
   },
   "source": [
    "#### Write a function that takes a salary string and converts it to a number, averaging a salary range if necessary."
   ]
  },
  {
   "cell_type": "code",
   "execution_count": null,
   "metadata": {},
   "outputs": [],
   "source": [
    "#Solving the string manipulation problem with Regex and an IF statement for months vs years.\n",
    "\n",
    "def convert_digits(a):\n",
    "    import re\n",
    "\n",
    "    #If there is a month in the string.\n",
    "    digits = []\n",
    "    if 'month' in a:\n",
    "        for x in a.split():\n",
    "                x_ = x.replace(',','')\n",
    "                x_ = re.sub('[$,£]', '', x_)\n",
    "                if x_.isdigit():\n",
    "                    year_figure = (int(x_) * 12)\n",
    "                    digits.append(year_figure)\n",
    "\n",
    "        if len(digits) == 1:\n",
    "            return digits[0]\n",
    "\n",
    "        else:\n",
    "            return sum(digits) / len(digits)\n",
    "\n",
    "    #If there is no month in the string.\n",
    "\n",
    "    else:\n",
    "        for x in a.split():\n",
    "            x_ = x.replace(',','')\n",
    "            x_ = re.sub('[$,£]', '', x_)\n",
    "            if x_.isdigit():\n",
    "                digits.append(int(x_))\n",
    "\n",
    "        if len(digits) == 1:\n",
    "            return digits[0]\n",
    "\n",
    "        else:\n",
    "            return sum(digits) / len(digits)"
   ]
  },
  {
   "cell_type": "code",
   "execution_count": null,
   "metadata": {},
   "outputs": [],
   "source": [
    "#Let's apply our formula to extract all of the rows.\n",
    "\n",
    "df['Salaries($)'] = df['Salaries($)'].apply(convert_digits)"
   ]
  },
  {
   "cell_type": "code",
   "execution_count": null,
   "metadata": {},
   "outputs": [],
   "source": [
    "### Data Cleaning ### - After scraping data for several days, now we can remove any of the duplicates.\n",
    "\n",
    "df = pd.DataFrame.drop_duplicates(df)"
   ]
  },
  {
   "cell_type": "code",
   "execution_count": null,
   "metadata": {},
   "outputs": [],
   "source": [
    "# Let's clean up the locations column.\n",
    "\n",
    "def locations(a):\n",
    "    import re\n",
    "    result = re.sub(r\"[0-9]\", \"\", str(a))\n",
    "    return re.sub(r'\\([^)]*\\)', '', result)\n",
    "\n",
    "df['Locations'] = df['Locations'].apply(locations)"
   ]
  },
  {
   "cell_type": "markdown",
   "metadata": {
    "focus": false,
    "id": "43e71edd-210e-42b1-9336-70a931f048af"
   },
   "source": [
    "### Save your results as a CSV"
   ]
  },
  {
   "cell_type": "code",
   "execution_count": null,
   "metadata": {
    "focus": false,
    "id": "783fd153-28ac-47ab-bfca-27e7c1de95b4"
   },
   "outputs": [],
   "source": [
    "# # Let's export the dataframe into a CSV format.\n",
    "# export_csv = cleaned_df.to_csv('exported_dataframe.csv', index= None, header=True)"
   ]
  },
  {
   "cell_type": "markdown",
   "metadata": {},
   "source": [
    "### The Code Below Allows Us To Append To Our Existing CSV Data From Multiple Scrapes"
   ]
  },
  {
   "cell_type": "code",
   "execution_count": null,
   "metadata": {},
   "outputs": [],
   "source": [
    "df.to_csv('exported_dataframe.csv', mode='a', header=False, index=False)"
   ]
  },
  {
   "cell_type": "markdown",
   "metadata": {
    "focus": false,
    "id": "04563b69-f7b6-466f-9d65-fc62c9ddee6a"
   },
   "source": [
    "## QUESTION 2: Factors that distinguish job category\n",
    "\n",
    "Using the job postings you scraped for part 1 (or potentially new job postings from a second round of scraping), identify features in the data related to job postings that can distinguish job titles from each other. There are a variety of interesting ways you can frame the target variable, for example:\n",
    "- What components of a job posting distinguish data scientists from other data jobs?\n",
    "- What features are important for distinguishing junior vs. senior positions?\n",
    "- Do the requirements for titles vary significantly with industry (e.g. healthcare vs. government)?\n",
    "\n",
    "You may end up making multiple classification models to tackle different questions. Be sure to clearly explain your hypotheses and framing, any feature engineering, and what your target variables are. The type of classification model you choose is up to you. Be sure to interpret your results and evaluate your model's performance."
   ]
  },
  {
   "cell_type": "markdown",
   "metadata": {
    "focus": false,
    "id": "243e949e-2742-40af-872e-fec475fd306c"
   },
   "source": [
    "#### Load in the the data of scraped salaries"
   ]
  },
  {
   "cell_type": "code",
   "execution_count": 4,
   "metadata": {
    "focus": false,
    "id": "588f9845-6143-4bcc-bfd1-85d45b79303d"
   },
   "outputs": [],
   "source": [
    "cleaned_df = pd.read_csv(\"exported_dataframe.csv\")"
   ]
  },
  {
   "cell_type": "code",
   "execution_count": null,
   "metadata": {},
   "outputs": [],
   "source": [
    "# cleaned_df = cleaned_df.drop_duplicates()"
   ]
  },
  {
   "cell_type": "markdown",
   "metadata": {
    "focus": false,
    "id": "c7631f51-07f2-4c79-a093-3e9bc7849a48"
   },
   "source": [
    "#### We want to predict a binary variable - whether the salary was low or high. Compute the median salary and create a new binary variable that is true when the salary is high (above the median).\n",
    "\n",
    "We could also perform Linear Regression (or any regression) to predict the salary value here. Instead, we are going to convert this into a _binary_ classification problem, by predicting two classes, HIGH vs LOW salary.\n",
    "\n",
    "While performing regression may be better, performing classification may help remove some of the noise of the extreme salaries. We don't have to choose the `median` as the splitting point - we could also split on the 75th percentile or any other reasonable breaking point.\n",
    "\n",
    "In fact, the ideal scenario may be to predict many levels of salaries."
   ]
  },
  {
   "cell_type": "code",
   "execution_count": 5,
   "metadata": {
    "focus": false,
    "id": "c20d2498-151c-44c3-a453-3a333c79a0ac"
   },
   "outputs": [
    {
     "name": "stdout",
     "output_type": "stream",
     "text": [
      "100000.0\n"
     ]
    }
   ],
   "source": [
    "# Calculating The Median.\n",
    "\n",
    "median = cleaned_df['Salaries($)'].median()\n",
    "print(median)"
   ]
  },
  {
   "cell_type": "code",
   "execution_count": 6,
   "metadata": {},
   "outputs": [],
   "source": [
    "def salary_class (x, median=median):\n",
    "    if x > median:\n",
    "        return 'HIGH SALARY'\n",
    "    else:\n",
    "        return 'LOW SALARY'"
   ]
  },
  {
   "cell_type": "code",
   "execution_count": 7,
   "metadata": {},
   "outputs": [],
   "source": [
    "cleaned_df['Salary_Class'] = cleaned_df['Salaries($)'].apply(salary_class)"
   ]
  },
  {
   "cell_type": "markdown",
   "metadata": {
    "focus": false,
    "id": "a7afb2c0-d41e-4779-8216-91cd8dd4473f"
   },
   "source": [
    "#### Thought experiment: What is the baseline accuracy for this model?"
   ]
  },
  {
   "cell_type": "code",
   "execution_count": 8,
   "metadata": {},
   "outputs": [
    {
     "data": {
      "text/plain": [
       "LOW SALARY     273\n",
       "HIGH SALARY    271\n",
       "Name: Salary_Class, dtype: int64"
      ]
     },
     "execution_count": 8,
     "metadata": {},
     "output_type": "execute_result"
    }
   ],
   "source": [
    "## The Baseline Accuracy Will Be The Most Frequent Class Within The Distribution\n",
    "\n",
    "cleaned_df['Salary_Class'].value_counts()"
   ]
  },
  {
   "cell_type": "code",
   "execution_count": 9,
   "metadata": {},
   "outputs": [
    {
     "data": {
      "text/plain": [
       "50.18382352941176"
      ]
     },
     "execution_count": 9,
     "metadata": {},
     "output_type": "execute_result"
    }
   ],
   "source": [
    "# Therefore Our Baseline Accuracy Is 50.182%\n",
    "\n",
    "(cleaned_df[(cleaned_df['Salary_Class'] == 'LOW SALARY')].shape[0] / cleaned_df.shape[0]) * 100"
   ]
  },
  {
   "cell_type": "code",
   "execution_count": 10,
   "metadata": {},
   "outputs": [
    {
     "data": {
      "text/html": [
       "<div>\n",
       "<style scoped>\n",
       "    .dataframe tbody tr th:only-of-type {\n",
       "        vertical-align: middle;\n",
       "    }\n",
       "\n",
       "    .dataframe tbody tr th {\n",
       "        vertical-align: top;\n",
       "    }\n",
       "\n",
       "    .dataframe thead th {\n",
       "        text-align: right;\n",
       "    }\n",
       "</style>\n",
       "<table border=\"1\" class=\"dataframe\">\n",
       "  <thead>\n",
       "    <tr style=\"text-align: right;\">\n",
       "      <th></th>\n",
       "      <th>Salaries($)</th>\n",
       "      <th>Titles</th>\n",
       "      <th>Locations</th>\n",
       "      <th>Companies</th>\n",
       "      <th>Ratings</th>\n",
       "      <th>Salary_Class</th>\n",
       "    </tr>\n",
       "  </thead>\n",
       "  <tbody>\n",
       "    <tr>\n",
       "      <th>152</th>\n",
       "      <td>140000.0</td>\n",
       "      <td>MTC Technical Architect-Data &amp; AI</td>\n",
       "      <td>Chicago, IL</td>\n",
       "      <td>Microsoft</td>\n",
       "      <td>87.0</td>\n",
       "      <td>HIGH SALARY</td>\n",
       "    </tr>\n",
       "    <tr>\n",
       "      <th>153</th>\n",
       "      <td>64650.0</td>\n",
       "      <td>Management Operations Analyst II</td>\n",
       "      <td>Cook County, IL</td>\n",
       "      <td>State of Illinois</td>\n",
       "      <td>73.0</td>\n",
       "      <td>LOW SALARY</td>\n",
       "    </tr>\n",
       "    <tr>\n",
       "      <th>154</th>\n",
       "      <td>121000.0</td>\n",
       "      <td>Data Scientist</td>\n",
       "      <td>Chicago, IL</td>\n",
       "      <td>Relativity</td>\n",
       "      <td>65.0</td>\n",
       "      <td>HIGH SALARY</td>\n",
       "    </tr>\n",
       "    <tr>\n",
       "      <th>155</th>\n",
       "      <td>57141.0</td>\n",
       "      <td>Research Analyst - Oakton Community College</td>\n",
       "      <td>Des Plaines, IL</td>\n",
       "      <td>Oakton Community College</td>\n",
       "      <td>89.0</td>\n",
       "      <td>LOW SALARY</td>\n",
       "    </tr>\n",
       "    <tr>\n",
       "      <th>156</th>\n",
       "      <td>53000.0</td>\n",
       "      <td>Data Science Educator</td>\n",
       "      <td>Boulder, CO</td>\n",
       "      <td>Battelle</td>\n",
       "      <td>73.0</td>\n",
       "      <td>LOW SALARY</td>\n",
       "    </tr>\n",
       "    <tr>\n",
       "      <th>157</th>\n",
       "      <td>63161.0</td>\n",
       "      <td>Computer Scientist, ZP-1550-II (GS-7/10 equiva...</td>\n",
       "      <td>Boulder, CO</td>\n",
       "      <td>US Department of Commerce</td>\n",
       "      <td>87.0</td>\n",
       "      <td>LOW SALARY</td>\n",
       "    </tr>\n",
       "    <tr>\n",
       "      <th>158</th>\n",
       "      <td>133500.0</td>\n",
       "      <td>Data Scientist - Bioinformatics</td>\n",
       "      <td>Denver, CO</td>\n",
       "      <td>Transamerica</td>\n",
       "      <td>71.0</td>\n",
       "      <td>HIGH SALARY</td>\n",
       "    </tr>\n",
       "    <tr>\n",
       "      <th>160</th>\n",
       "      <td>129500.0</td>\n",
       "      <td>Data Scientist</td>\n",
       "      <td>Denver, CO</td>\n",
       "      <td>ICR</td>\n",
       "      <td>73.0</td>\n",
       "      <td>HIGH SALARY</td>\n",
       "    </tr>\n",
       "    <tr>\n",
       "      <th>161</th>\n",
       "      <td>123774.0</td>\n",
       "      <td>Chemistry Program Manager - 2040</td>\n",
       "      <td>Denver, CO</td>\n",
       "      <td>State of Colorado Job Opportunities</td>\n",
       "      <td>70.0</td>\n",
       "      <td>HIGH SALARY</td>\n",
       "    </tr>\n",
       "    <tr>\n",
       "      <th>162</th>\n",
       "      <td>5000.0</td>\n",
       "      <td>UX Copywriter / Content Strategist</td>\n",
       "      <td>Denver, CO</td>\n",
       "      <td>AETNA</td>\n",
       "      <td>72.0</td>\n",
       "      <td>LOW SALARY</td>\n",
       "    </tr>\n",
       "    <tr>\n",
       "      <th>163</th>\n",
       "      <td>34000.0</td>\n",
       "      <td>Imagery Science Services-Journeyman-TS/SCI wit...</td>\n",
       "      <td>Denver, CO</td>\n",
       "      <td>Leidos</td>\n",
       "      <td>72.0</td>\n",
       "      <td>LOW SALARY</td>\n",
       "    </tr>\n",
       "    <tr>\n",
       "      <th>164</th>\n",
       "      <td>70000.0</td>\n",
       "      <td>Data Analytics Specialist</td>\n",
       "      <td>Manhattan, NY</td>\n",
       "      <td>New York City DEPT OF PARKS &amp; RECREATION</td>\n",
       "      <td>87.0</td>\n",
       "      <td>LOW SALARY</td>\n",
       "    </tr>\n",
       "    <tr>\n",
       "      <th>165</th>\n",
       "      <td>89349.0</td>\n",
       "      <td>Data Analyst, PNA</td>\n",
       "      <td>Manhattan, NY</td>\n",
       "      <td>New York City NYC HOUSING AUTHORITY</td>\n",
       "      <td>73.0</td>\n",
       "      <td>LOW SALARY</td>\n",
       "    </tr>\n",
       "    <tr>\n",
       "      <th>166</th>\n",
       "      <td>43552.0</td>\n",
       "      <td>Burial Desk Clerk, Bureau of Vital Statistics</td>\n",
       "      <td>Manhattan, NY</td>\n",
       "      <td>New York City DEPT OF HEALTH/MENTAL HYGIENE</td>\n",
       "      <td>85.0</td>\n",
       "      <td>LOW SALARY</td>\n",
       "    </tr>\n",
       "    <tr>\n",
       "      <th>167</th>\n",
       "      <td>63500.0</td>\n",
       "      <td>Associate Underwriter, Data Analysis Rating Te...</td>\n",
       "      <td>New York, NY</td>\n",
       "      <td>Liberty Mutual Insurance</td>\n",
       "      <td>71.0</td>\n",
       "      <td>LOW SALARY</td>\n",
       "    </tr>\n",
       "  </tbody>\n",
       "</table>\n",
       "</div>"
      ],
      "text/plain": [
       "     Salaries($)                                             Titles  \\\n",
       "152     140000.0                  MTC Technical Architect-Data & AI   \n",
       "153      64650.0                   Management Operations Analyst II   \n",
       "154     121000.0                                     Data Scientist   \n",
       "155      57141.0        Research Analyst - Oakton Community College   \n",
       "156      53000.0                              Data Science Educator   \n",
       "157      63161.0  Computer Scientist, ZP-1550-II (GS-7/10 equiva...   \n",
       "158     133500.0                    Data Scientist - Bioinformatics   \n",
       "160     129500.0                                     Data Scientist   \n",
       "161     123774.0                   Chemistry Program Manager - 2040   \n",
       "162       5000.0                 UX Copywriter / Content Strategist   \n",
       "163      34000.0  Imagery Science Services-Journeyman-TS/SCI wit...   \n",
       "164      70000.0                          Data Analytics Specialist   \n",
       "165      89349.0                                  Data Analyst, PNA   \n",
       "166      43552.0      Burial Desk Clerk, Bureau of Vital Statistics   \n",
       "167      63500.0  Associate Underwriter, Data Analysis Rating Te...   \n",
       "\n",
       "            Locations                                    Companies  Ratings  \\\n",
       "152       Chicago, IL                                    Microsoft     87.0   \n",
       "153   Cook County, IL                            State of Illinois     73.0   \n",
       "154       Chicago, IL                                   Relativity     65.0   \n",
       "155  Des Plaines, IL                      Oakton Community College     89.0   \n",
       "156      Boulder, CO                                      Battelle     73.0   \n",
       "157     Boulder, CO                      US Department of Commerce     87.0   \n",
       "158       Denver, CO                                  Transamerica     71.0   \n",
       "160        Denver, CO                                          ICR     73.0   \n",
       "161        Denver, CO          State of Colorado Job Opportunities     70.0   \n",
       "162      Denver, CO                                          AETNA     72.0   \n",
       "163        Denver, CO                                       Leidos     72.0   \n",
       "164     Manhattan, NY     New York City DEPT OF PARKS & RECREATION     87.0   \n",
       "165     Manhattan, NY          New York City NYC HOUSING AUTHORITY     73.0   \n",
       "166     Manhattan, NY  New York City DEPT OF HEALTH/MENTAL HYGIENE     85.0   \n",
       "167    New York, NY                       Liberty Mutual Insurance     71.0   \n",
       "\n",
       "    Salary_Class  \n",
       "152  HIGH SALARY  \n",
       "153   LOW SALARY  \n",
       "154  HIGH SALARY  \n",
       "155   LOW SALARY  \n",
       "156   LOW SALARY  \n",
       "157   LOW SALARY  \n",
       "158  HIGH SALARY  \n",
       "160  HIGH SALARY  \n",
       "161  HIGH SALARY  \n",
       "162   LOW SALARY  \n",
       "163   LOW SALARY  \n",
       "164   LOW SALARY  \n",
       "165   LOW SALARY  \n",
       "166   LOW SALARY  \n",
       "167   LOW SALARY  "
      ]
     },
     "execution_count": 10,
     "metadata": {},
     "output_type": "execute_result"
    }
   ],
   "source": [
    "cleaned_df[cleaned_df['Ratings'].notnull()].head(15)"
   ]
  },
  {
   "cell_type": "code",
   "execution_count": 11,
   "metadata": {},
   "outputs": [],
   "source": [
    "#Feature Engineering \n",
    "\n",
    "#1. Creating The States.\n",
    "cleaned_df['State'] = cleaned_df['Locations'].apply(lambda x: str(x).split()[-1])\n",
    "\n",
    "#2. Separating Out The Location From State.\n",
    "cleaned_df['Locations'] = cleaned_df['Locations'].apply(lambda x: (str(\" \".join(str(x).split()[:-1])).replace(',','')))\n"
   ]
  },
  {
   "cell_type": "markdown",
   "metadata": {
    "focus": false,
    "id": "4fb29de2-5b98-474c-a4ad-5170b72b9aea"
   },
   "source": [
    "### Create a classification model to predict High/Low salary. \n",
    "\n",
    "\n",
    "#### Model based on location:\n",
    "\n",
    "- Start by ONLY using the location as a feature. \n",
    "- Use logistic regression with both statsmodels and sklearn.\n",
    "- Use a further classifier you find suitable.\n",
    "- Remember that scaling your features might be necessary.\n",
    "- Display the coefficients/feature importances and write a short summary of what they mean.\n",
    "\n",
    "#### Model taking into account job levels and categories:\n",
    "\n",
    "- Create a few new variables in your dataframe to represent interesting features of a job title.\n",
    "- For example, create a feature that represents whether 'Senior' is in the title or whether 'Manager' is in the title. \n",
    "- Incorporate other text features from the title or summary that you believe will predict the salary.\n",
    "- Then build new classification models including also those features. Do they add any value? \n",
    "- Tune your models by testing parameter ranges, regularization strengths, etc. Discuss how that affects your models. \n",
    "- Discuss model coefficients or feature importances as applicable.\n",
    "\n",
    "#### Model evaluation:\n",
    "\n",
    "Your boss would rather tell a client incorrectly that they would get a lower salary job than tell a client incorrectly that they would get a high salary job. Adjust one of your models to ease his mind, and explain what it is doing and any tradeoffs. \n",
    "\n",
    "\n",
    "- Use cross-validation to evaluate your models. \n",
    "- Evaluate the accuracy, AUC, precision and recall of the models. \n",
    "- Plot the ROC and precision-recall curves for at least one of your models."
   ]
  },
  {
   "cell_type": "code",
   "execution_count": 12,
   "metadata": {
    "scrolled": false
   },
   "outputs": [
    {
     "data": {
      "text/plain": [
       "'\\n1. Dummy location and create a standardized predictor matrix.\\n2. Run Logistic Regression within both statsmodels and sklearn.\\n3. Use 2 - 4 more classifiers.\\n4. Display the coefficients/feature importances + write a summary.\\n'"
      ]
     },
     "execution_count": 12,
     "metadata": {},
     "output_type": "execute_result"
    }
   ],
   "source": [
    "# The Machine Learning Process For Logistic Regression \n",
    "\n",
    "'''\n",
    "1. Dummy location and create a standardized predictor matrix.\n",
    "2. Run Logistic Regression within both statsmodels and sklearn.\n",
    "3. Use 2 - 4 more classifiers.\n",
    "4. Display the coefficients/feature importances + write a summary.\n",
    "'''"
   ]
  },
  {
   "cell_type": "code",
   "execution_count": 13,
   "metadata": {},
   "outputs": [],
   "source": [
    "X = cleaned_df.copy()\n",
    "X = X.dropna(how='any')\n",
    "X.drop(columns=['Companies', 'Salaries($)'], inplace=True)\n",
    "X = pd.get_dummies(data=X, drop_first=True, columns=['State', 'Locations', 'Titles'])\n",
    "y = X.pop('Salary_Class')"
   ]
  },
  {
   "cell_type": "code",
   "execution_count": 14,
   "metadata": {},
   "outputs": [],
   "source": [
    "X_train, X_test, y_train, y_test = train_test_split(\n",
    "X, y, test_size=0.2, random_state=1, stratify=y)"
   ]
  },
  {
   "cell_type": "code",
   "execution_count": 15,
   "metadata": {},
   "outputs": [
    {
     "name": "stdout",
     "output_type": "stream",
     "text": [
      "KNeighborsClassifier(algorithm='auto', leaf_size=30, metric='minkowski',\n",
      "           metric_params=None, n_jobs=None, n_neighbors=5, p=2,\n",
      "           weights='uniform')\n",
      "0.6206896551724138\n",
      "---------\n",
      "LogisticRegression(C=1.0, class_weight=None, dual=False, fit_intercept=True,\n",
      "          intercept_scaling=1, max_iter=100, multi_class='auto',\n",
      "          n_jobs=None, penalty='l2', random_state=None, solver='lbfgs',\n",
      "          tol=0.0001, verbose=0, warm_start=False)\n",
      "0.7068965517241379\n",
      "---------\n",
      "DecisionTreeClassifier(class_weight=None, criterion='gini', max_depth=None,\n",
      "            max_features=None, max_leaf_nodes=None,\n",
      "            min_impurity_decrease=0.0, min_impurity_split=None,\n",
      "            min_samples_leaf=1, min_samples_split=2,\n",
      "            min_weight_fraction_leaf=0.0, presort=False, random_state=None,\n",
      "            splitter='best')\n",
      "0.6896551724137931\n",
      "---------\n",
      "SVC(C=1.0, cache_size=200, class_weight=None, coef0=0.0,\n",
      "  decision_function_shape='ovr', degree=3, gamma='scale', kernel='rbf',\n",
      "  max_iter=-1, probability=False, random_state=None, shrinking=True,\n",
      "  tol=0.001, verbose=False)\n",
      "0.5172413793103449\n",
      "---------\n",
      "RandomForestClassifier(bootstrap=True, class_weight=None, criterion='gini',\n",
      "            max_depth=None, max_features='auto', max_leaf_nodes=None,\n",
      "            min_impurity_decrease=0.0, min_impurity_split=None,\n",
      "            min_samples_leaf=1, min_samples_split=2,\n",
      "            min_weight_fraction_leaf=0.0, n_estimators=100, n_jobs=None,\n",
      "            oob_score=False, random_state=None, verbose=0,\n",
      "            warm_start=False)\n"
     ]
    },
    {
     "name": "stderr",
     "output_type": "stream",
     "text": [
      "/anaconda3/lib/python3.7/site-packages/sklearn/linear_model/logistic.py:758: ConvergenceWarning: lbfgs failed to converge. Increase the number of iterations.\n",
      "  \"of iterations.\", ConvergenceWarning)\n"
     ]
    },
    {
     "name": "stdout",
     "output_type": "stream",
     "text": [
      "0.6724137931034483\n",
      "---------\n",
      "ExtraTreesClassifier(bootstrap=False, class_weight=None, criterion='gini',\n",
      "           max_depth=None, max_features='auto', max_leaf_nodes=None,\n",
      "           min_impurity_decrease=0.0, min_impurity_split=None,\n",
      "           min_samples_leaf=1, min_samples_split=2,\n",
      "           min_weight_fraction_leaf=0.0, n_estimators=100, n_jobs=None,\n",
      "           oob_score=False, random_state=None, verbose=0, warm_start=False)\n",
      "0.6896551724137931\n",
      "---------\n"
     ]
    }
   ],
   "source": [
    "models = [KNeighborsClassifier(),\n",
    "          LogisticRegression(solver='lbfgs', multi_class='auto'),\n",
    "          DecisionTreeClassifier(),\n",
    "          SVC(gamma='scale'),\n",
    "          RandomForestClassifier(n_estimators=100),\n",
    "          ExtraTreesClassifier(n_estimators=100)]\n",
    "\n",
    "for model in models:\n",
    "    print(model)\n",
    "    model.fit(X_train, y_train)\n",
    "    y_pred = model.predict(X_test)\n",
    "    score = accuracy_score(y_test, y_pred)\n",
    "    print(score)\n",
    "    print('---------')"
   ]
  },
  {
   "cell_type": "code",
   "execution_count": null,
   "metadata": {},
   "outputs": [],
   "source": [
    "#Display the coefficients/feature importances and write a short summary of what they mean.\n",
    "\n",
    "from sklearn.linear_model import LogisticRegressionCV\n",
    "from sklearn.model_selection import StratifiedKFold\n",
    "\n",
    "skf = StratifiedKFold(n_splits=3)\n",
    "\n",
    "log_reg_model = LogisticRegressionCV(cv=skf)\n",
    "log_reg_model.fit(X_train, y_train)\n",
    "\n",
    "print('--------')\n",
    "print(\"The Logistic Regression Accuracy Score\", round(log_reg_model.score(X_test, y_test),3))\n",
    "print('--------')\n",
    "print(\"The Cross Validated Logistic Regression Accuracy Score\", round(np.mean(cross_val_score(log_reg_model, X_test, y_test, cv=skf)),3))\n",
    "print('--------')\n",
    "\n",
    "### Producing The Coefficients ####\n",
    "\n",
    "Logistic_Regression_Coefficients = log_reg_model.coef_\n",
    "coefficients_matrix = pd.DataFrame(Logistic_Regression_Coefficients, columns= X_train.columns).T"
   ]
  },
  {
   "cell_type": "code",
   "execution_count": null,
   "metadata": {},
   "outputs": [],
   "source": [
    "#Plotting The Top 10 Most Positive Residuals From The Logisitic Regression Model\n",
    "\n",
    "fig, ax = plt.subplots(figsize=(30,12))\n",
    "x_values =  coefficients_matrix.sort_values(by=0, ascending=False).head(10).index\n",
    "sns.barplot(x=x_values, y='Logistic Regression Coefficients', data=coefficients_matrix.sort_values(by='0', ascending=False).head(10))\n",
    "plt.title('The Top 10 Most Positive Coefficients From The Logisitic Regression Model', pad=30, fontsize='25')\n",
    "plt.xlabel('Coefficients', fontsize='18', labelpad=30)\n",
    "plt.ylabel('Counts', fontsize='18', labelpad=30)\n",
    "plt.show()"
   ]
  },
  {
   "cell_type": "code",
   "execution_count": null,
   "metadata": {},
   "outputs": [],
   "source": [
    "#Plotting The Top 10 Most Negative Residuals From The Logisitic Regression Model\n",
    "\n",
    "fig, ax = plt.subplots(figsize=(30,12))\n",
    "x_values =  coefficients_matrix.sort_values(by=0, ascending=True).head(10).index\n",
    "sns.barplot(x=x_values, y='Logistic Regression Coefficients', data=coefficients_matrix.sort_values(by='0', ascending=True).head(10))\n",
    "plt.title('The Top 10 Most Negative Coefficients From The Logisitic Regression Model', pad=30, fontsize='25')\n",
    "plt.xlabel('Coefficients', fontsize='18', labelpad=30)\n",
    "plt.ylabel('Counts', fontsize='18', labelpad=30)\n",
    "plt.show()"
   ]
  },
  {
   "cell_type": "markdown",
   "metadata": {},
   "source": [
    "----------------------------------------------------------------------------------------------------------------------------------------"
   ]
  },
  {
   "cell_type": "code",
   "execution_count": 16,
   "metadata": {},
   "outputs": [],
   "source": [
    "#Additional Feature Engineering - NLP Text Data\n",
    "\n",
    "from sklearn.feature_extraction.text import TfidfVectorizer\n",
    "vectorizer = TfidfVectorizer()\n",
    "\n",
    "X = cleaned_df.copy()\n",
    "X = X.dropna(how='any')\n",
    "X.drop(columns=['Companies', 'Salaries($)'], inplace=True)\n",
    "X = pd.get_dummies(data=X, drop_first=True, columns=['State', 'Locations'])\n",
    "y = X.pop('Salary_Class')"
   ]
  },
  {
   "cell_type": "code",
   "execution_count": 17,
   "metadata": {},
   "outputs": [
    {
     "name": "stderr",
     "output_type": "stream",
     "text": [
      "/anaconda3/lib/python3.7/site-packages/pandas/core/frame.py:3940: SettingWithCopyWarning: \n",
      "A value is trying to be set on a copy of a slice from a DataFrame\n",
      "\n",
      "See the caveats in the documentation: http://pandas.pydata.org/pandas-docs/stable/indexing.html#indexing-view-versus-copy\n",
      "  errors=errors)\n"
     ]
    }
   ],
   "source": [
    "X2_train, X2_test, y2_train, y2_test = train_test_split(\n",
    "X, y, test_size=0.2, random_state=1, stratify=y)\n",
    "\n",
    "X2_train_titles = vectorizer.fit_transform(X2_train['Titles'])\n",
    "X2_test_titles = vectorizer.transform(X2_test['Titles'])\n",
    "\n",
    "X2_train.drop(columns=['Titles'], inplace=True)\n",
    "X2_test.drop(columns=['Titles'], inplace=True)\n",
    "\n",
    "X_Train_Sparse = sparse.csr_matrix(X2_train.values)\n",
    "X_Test_Sparse = sparse.csr_matrix(X2_test.values)\n",
    "\n",
    "y2_train.reset_index(drop=True)\n",
    "y2_test.reset_index(drop=True)\n",
    "\n",
    "X2_train = sparse.hstack((X2_train_titles, X_Train_Sparse))\n",
    "X2_test = sparse.hstack((X2_test_titles, X_Test_Sparse))"
   ]
  },
  {
   "cell_type": "code",
   "execution_count": 18,
   "metadata": {},
   "outputs": [
    {
     "name": "stdout",
     "output_type": "stream",
     "text": [
      "KNeighborsClassifier(algorithm='auto', leaf_size=30, metric='minkowski',\n",
      "           metric_params=None, n_jobs=None, n_neighbors=5, p=2,\n",
      "           weights='uniform')\n",
      "0.7913043478260869\n",
      "0.7068965517241379\n",
      "0.6909090909090909\n",
      "---------\n",
      "LogisticRegression(C=1.0, class_weight=None, dual=False, fit_intercept=True,\n",
      "          intercept_scaling=1, max_iter=100, multi_class='auto',\n",
      "          n_jobs=None, penalty='l2', random_state=None, solver='lbfgs',\n",
      "          tol=0.0001, verbose=0, warm_start=False)\n",
      "0.9347826086956522\n",
      "0.7241379310344828\n"
     ]
    },
    {
     "name": "stderr",
     "output_type": "stream",
     "text": [
      "/anaconda3/lib/python3.7/site-packages/sklearn/linear_model/logistic.py:758: ConvergenceWarning: lbfgs failed to converge. Increase the number of iterations.\n",
      "  \"of iterations.\", ConvergenceWarning)\n",
      "/anaconda3/lib/python3.7/site-packages/sklearn/linear_model/logistic.py:758: ConvergenceWarning: lbfgs failed to converge. Increase the number of iterations.\n",
      "  \"of iterations.\", ConvergenceWarning)\n",
      "/anaconda3/lib/python3.7/site-packages/sklearn/linear_model/logistic.py:758: ConvergenceWarning: lbfgs failed to converge. Increase the number of iterations.\n",
      "  \"of iterations.\", ConvergenceWarning)\n",
      "/anaconda3/lib/python3.7/site-packages/sklearn/linear_model/logistic.py:758: ConvergenceWarning: lbfgs failed to converge. Increase the number of iterations.\n",
      "  \"of iterations.\", ConvergenceWarning)\n"
     ]
    },
    {
     "name": "stdout",
     "output_type": "stream",
     "text": [
      "0.756060606060606\n",
      "---------\n",
      "DecisionTreeClassifier(class_weight=None, criterion='gini', max_depth=None,\n",
      "            max_features=None, max_leaf_nodes=None,\n",
      "            min_impurity_decrease=0.0, min_impurity_split=None,\n",
      "            min_samples_leaf=1, min_samples_split=2,\n",
      "            min_weight_fraction_leaf=0.0, presort=False, random_state=None,\n",
      "            splitter='best')\n",
      "1.0\n",
      "0.7413793103448276\n",
      "0.6575757575757576\n",
      "---------\n",
      "SVC(C=1.0, cache_size=200, class_weight=None, coef0=0.0,\n",
      "  decision_function_shape='ovr', degree=3, gamma='scale', kernel='rbf',\n",
      "  max_iter=-1, probability=False, random_state=None, shrinking=True,\n",
      "  tol=0.001, verbose=False)\n",
      "0.5304347826086957\n",
      "0.5172413793103449\n",
      "0.5363636363636364\n",
      "---------\n",
      "RandomForestClassifier(bootstrap=True, class_weight=None, criterion='gini',\n",
      "            max_depth=None, max_features='auto', max_leaf_nodes=None,\n",
      "            min_impurity_decrease=0.0, min_impurity_split=None,\n",
      "            min_samples_leaf=1, min_samples_split=2,\n",
      "            min_weight_fraction_leaf=0.0, n_estimators=100, n_jobs=None,\n",
      "            oob_score=False, random_state=None, verbose=0,\n",
      "            warm_start=False)\n",
      "1.0\n",
      "0.8275862068965517\n",
      "0.740909090909091\n",
      "---------\n",
      "ExtraTreesClassifier(bootstrap=False, class_weight=None, criterion='gini',\n",
      "           max_depth=None, max_features='auto', max_leaf_nodes=None,\n",
      "           min_impurity_decrease=0.0, min_impurity_split=None,\n",
      "           min_samples_leaf=1, min_samples_split=2,\n",
      "           min_weight_fraction_leaf=0.0, n_estimators=100, n_jobs=None,\n",
      "           oob_score=False, random_state=None, verbose=0, warm_start=False)\n",
      "1.0\n",
      "0.7758620689655172\n",
      "0.6878787878787879\n",
      "---------\n"
     ]
    }
   ],
   "source": [
    "models = [KNeighborsClassifier(),\n",
    "          LogisticRegression(solver='lbfgs', multi_class='auto'),\n",
    "          DecisionTreeClassifier(),\n",
    "          SVC(gamma='scale'),\n",
    "          RandomForestClassifier(n_estimators=100),\n",
    "          ExtraTreesClassifier(n_estimators=100)]\n",
    "\n",
    "for model in models:\n",
    "    print(model)\n",
    "    model.fit(X2_train, y2_train)\n",
    "    print(model.score(X2_train, y2_train))\n",
    "    print(model.score(X2_test, y2_test))\n",
    "    print(np.mean(cross_val_score(model, X2_test, y2_test, cv=5)))\n",
    "    print('---------')"
   ]
  },
  {
   "cell_type": "code",
   "execution_count": 19,
   "metadata": {},
   "outputs": [],
   "source": [
    "# Confusion Matrix +  Plot A ROC Curve + Precision Recall Curve Here."
   ]
  },
  {
   "cell_type": "code",
   "execution_count": 20,
   "metadata": {},
   "outputs": [
    {
     "name": "stderr",
     "output_type": "stream",
     "text": [
      "/anaconda3/lib/python3.7/site-packages/sklearn/linear_model/logistic.py:758: ConvergenceWarning: lbfgs failed to converge. Increase the number of iterations.\n",
      "  \"of iterations.\", ConvergenceWarning)\n"
     ]
    },
    {
     "data": {
      "text/plain": [
       "LogisticRegression(C=1.0, class_weight=None, dual=False, fit_intercept=True,\n",
       "          intercept_scaling=1, max_iter=100, multi_class='auto',\n",
       "          n_jobs=None, penalty='l2', random_state=None, solver='lbfgs',\n",
       "          tol=0.0001, verbose=0, warm_start=False)"
      ]
     },
     "execution_count": 20,
     "metadata": {},
     "output_type": "execute_result"
    }
   ],
   "source": [
    "log_reg_model = LogisticRegression(solver='lbfgs', multi_class='auto')\n",
    "log_reg_model.fit(X_train, y_train)"
   ]
  },
  {
   "cell_type": "code",
   "execution_count": 21,
   "metadata": {},
   "outputs": [],
   "source": [
    "predictions = log_reg_model.predict(X_test)"
   ]
  },
  {
   "cell_type": "code",
   "execution_count": 22,
   "metadata": {},
   "outputs": [
    {
     "data": {
      "text/plain": [
       "array(['HIGH SALARY', 'HIGH SALARY', 'HIGH SALARY', 'LOW SALARY',\n",
       "       'HIGH SALARY', 'LOW SALARY', 'HIGH SALARY', 'LOW SALARY',\n",
       "       'LOW SALARY', 'HIGH SALARY', 'HIGH SALARY', 'LOW SALARY',\n",
       "       'HIGH SALARY', 'HIGH SALARY', 'HIGH SALARY', 'LOW SALARY',\n",
       "       'LOW SALARY', 'HIGH SALARY', 'HIGH SALARY', 'LOW SALARY',\n",
       "       'HIGH SALARY', 'LOW SALARY', 'HIGH SALARY', 'LOW SALARY',\n",
       "       'LOW SALARY', 'LOW SALARY', 'HIGH SALARY', 'HIGH SALARY',\n",
       "       'HIGH SALARY', 'LOW SALARY', 'LOW SALARY', 'HIGH SALARY',\n",
       "       'LOW SALARY', 'HIGH SALARY', 'LOW SALARY', 'HIGH SALARY',\n",
       "       'HIGH SALARY', 'HIGH SALARY', 'LOW SALARY', 'HIGH SALARY',\n",
       "       'HIGH SALARY', 'LOW SALARY', 'HIGH SALARY', 'LOW SALARY',\n",
       "       'LOW SALARY', 'LOW SALARY', 'HIGH SALARY', 'LOW SALARY',\n",
       "       'HIGH SALARY', 'HIGH SALARY', 'HIGH SALARY', 'HIGH SALARY',\n",
       "       'HIGH SALARY', 'LOW SALARY', 'HIGH SALARY', 'LOW SALARY',\n",
       "       'HIGH SALARY', 'LOW SALARY'], dtype=object)"
      ]
     },
     "execution_count": 22,
     "metadata": {},
     "output_type": "execute_result"
    }
   ],
   "source": [
    "predictions"
   ]
  },
  {
   "cell_type": "code",
   "execution_count": 23,
   "metadata": {},
   "outputs": [
    {
     "data": {
      "text/html": [
       "<div>\n",
       "<style scoped>\n",
       "    .dataframe tbody tr th:only-of-type {\n",
       "        vertical-align: middle;\n",
       "    }\n",
       "\n",
       "    .dataframe tbody tr th {\n",
       "        vertical-align: top;\n",
       "    }\n",
       "\n",
       "    .dataframe thead th {\n",
       "        text-align: right;\n",
       "    }\n",
       "</style>\n",
       "<table border=\"1\" class=\"dataframe\">\n",
       "  <thead>\n",
       "    <tr style=\"text-align: right;\">\n",
       "      <th></th>\n",
       "      <th>Predicted LOW Salary</th>\n",
       "      <th>Predicted High Salary</th>\n",
       "    </tr>\n",
       "  </thead>\n",
       "  <tbody>\n",
       "    <tr>\n",
       "      <th>True</th>\n",
       "      <td>19</td>\n",
       "      <td>11</td>\n",
       "    </tr>\n",
       "    <tr>\n",
       "      <th>False</th>\n",
       "      <td>6</td>\n",
       "      <td>22</td>\n",
       "    </tr>\n",
       "  </tbody>\n",
       "</table>\n",
       "</div>"
      ],
      "text/plain": [
       "       Predicted LOW Salary  Predicted High Salary\n",
       "True                     19                     11\n",
       "False                     6                     22"
      ]
     },
     "execution_count": 23,
     "metadata": {},
     "output_type": "execute_result"
    }
   ],
   "source": [
    "conmat = np.array(confusion_matrix(y_test, predictions, labels=['LOW SALARY', 'HIGH SALARY']))\n",
    "\n",
    "confusion_matrix = pd.DataFrame(conmat, index=['True', 'False'],\n",
    "                         columns=['Predicted LOW Salary', 'Predicted High Salary'])\n",
    "confusion_matrix"
   ]
  },
  {
   "cell_type": "code",
   "execution_count": 24,
   "metadata": {},
   "outputs": [],
   "source": [
    "def binarizer(item):\n",
    "    if item == 'HIGH SALARY':\n",
    "        return 1\n",
    "    else:\n",
    "        return 0\n",
    "\n",
    "y_test = y_test.apply(binarizer)"
   ]
  },
  {
   "cell_type": "code",
   "execution_count": 25,
   "metadata": {},
   "outputs": [],
   "source": [
    "class_1_prob = log_reg_model.predict_proba(X_test)[:,1]"
   ]
  },
  {
   "cell_type": "code",
   "execution_count": 26,
   "metadata": {},
   "outputs": [
    {
     "data": {
      "image/png": "[encoded data removed]",
      "text/plain": [
       "<Figure size 432x432 with 1 Axes>"
      ]
     },
     "metadata": {
      "needs_background": "light"
     },
     "output_type": "display_data"
    }
   ],
   "source": [
    "# Adding A ROC Curve Here\n",
    "\n",
    "# For class 1, find the area under the curve\n",
    "fpr, tpr, threshold = roc_curve(y_test, class_1_prob)\n",
    "roc_auc = auc(fpr, tpr)\n",
    "\n",
    "# Plot of a ROC curve for class 1\n",
    "plt.figure(figsize=[6, 6])\n",
    "plt.plot(fpr, tpr, label='ROC curve (area = %0.2f)' % roc_auc, linewidth=4)\n",
    "plt.plot([0, 1], [0, 1], 'k--', linewidth=4)\n",
    "plt.xlim([-0.05, 1.0])\n",
    "plt.ylim([-0.05, 1.05])\n",
    "plt.xlabel('False Positive Rate', fontsize=18)\n",
    "plt.ylabel('True Positive Rate', fontsize=18)\n",
    "plt.title('ROC curve', fontsize=18)\n",
    "plt.legend(loc=\"lower right\")\n",
    "plt.show()"
   ]
  },
  {
   "cell_type": "code",
   "execution_count": 27,
   "metadata": {},
   "outputs": [
    {
     "data": {
      "image/png": "[encoded data removed]",
      "text/plain": [
       "<Figure size 432x432 with 1 Axes>"
      ]
     },
     "metadata": {
      "needs_background": "light"
     },
     "output_type": "display_data"
    }
   ],
   "source": [
    "# For class 1, find the area under the curve\n",
    "precision, recall, threshold = precision_recall_curve(y_test, class_1_prob)\n",
    "\n",
    "# Plot of a precision-recall curve for class 1 (benign)\n",
    "plt.figure(figsize=[6, 6])\n",
    "plt.plot(recall, precision, label='Precision-recall curve', linewidth=4)\n",
    "plt.xlim([-0.05, 1.0])\n",
    "plt.ylim([-0.05, 1.05])\n",
    "plt.xlabel('Recall', fontsize=18)\n",
    "plt.ylabel('Precision', fontsize=18)\n",
    "plt.title('Precision-Recall curve', fontsize=18)\n",
    "plt.legend(loc=\"lower right\")\n",
    "plt.show()"
   ]
  },
  {
   "cell_type": "code",
   "execution_count": 28,
   "metadata": {},
   "outputs": [],
   "source": [
    "# Performing A GridSearch On A Single Logistic Regression Model"
   ]
  },
  {
   "cell_type": "code",
   "execution_count": null,
   "metadata": {},
   "outputs": [],
   "source": [
    "#Logistic Regression..... Grid Search..."
   ]
  },
  {
   "cell_type": "code",
   "execution_count": null,
   "metadata": {},
   "outputs": [],
   "source": [
    "params = {\n",
    "    \n",
    "}"
   ]
  },
  {
   "cell_type": "code",
   "execution_count": null,
   "metadata": {},
   "outputs": [],
   "source": [
    "grid_search_model = GridSearchCV()"
   ]
  },
  {
   "cell_type": "code",
   "execution_count": null,
   "metadata": {},
   "outputs": [],
   "source": [
    "from sklearn.pipeline import Pipeline\n",
    "\n",
    "# 😂😂😂 Creating And Learning Pipelines 😂😂😂\n",
    "#7. TFID vectorizing - To Do\n",
    "#8. Merging my TFID sparse matrix with my origin dataframe (train + test split objects.) - To Do"
   ]
  },
  {
   "cell_type": "code",
   "execution_count": null,
   "metadata": {},
   "outputs": [],
   "source": [
    "from sklearn.base import BaseEstimator, TransformerMixin\n",
    "\n",
    "class Cleaner(BaseEstimator, TransformerMixin):\n",
    "    \n",
    "    def __init__(self, X, salary_column= None, cols_to_drop = None, columns_to_dummify= None):\n",
    "        self.salary_column = salary_column\n",
    "        self.salary_median = X[self.salary_column].median()\n",
    "        self.cols_to_drop = cols_to_drop\n",
    "        self.columns_to_dummify= columns_to_dummify\n",
    "        self.X = X\n",
    "    \n",
    "    #Creating The Salary Class \n",
    "    def salary_class(self):\n",
    "        data = ['HIGH SALARY' if item > self.salary_median else 'LOW SALARY' for item in self.X['Salaries($)']]\n",
    "        return data\n",
    "    \n",
    "    \n",
    "    #Creating The States + Locations Features\n",
    "    def state_and_locations(self):\n",
    "        states = [str(item).split()[-1] for item in self.X['Locations']]\n",
    "        locations = [(\" \".join(str(item).split()[:-1])).replace(',','') for item in cleaned_df['Locations']]   \n",
    "        return states, locations\n",
    "    \n",
    "    \n",
    "    def dropping_cols(self):\n",
    "        return self.X.drop(columns= self.cols_to_drop, inplace=True)\n",
    "    \n",
    "    \n",
    "    def make_dummy_cols(self):\n",
    "        for column in self.columns_to_dummify:\n",
    "            try:\n",
    "                categories = np.sort(self.X[column].unique())\n",
    "                for category in categories[1:]:\n",
    "                    self.X[column+'_'+str(category)] = self.X[column].map(\n",
    "                        lambda x: 1 if x == category else 0)\n",
    "                self.X = self.X.drop(column, axis=1)\n",
    "            except:\n",
    "                pass\n",
    "        return self.X\n",
    "    \n",
    "    \n",
    "    def transform(self, *args):\n",
    "        #Cleaning & Adding Features.\n",
    "        self.X['Salary_Class'] = self.salary_class()\n",
    "        self.X['State'] = self.state_and_locations()[0]\n",
    "        self.X['Locations'] = self.state_and_locations()[1]\n",
    "        \n",
    "        #Dropping Columns.\n",
    "        self.dropping_cols()\n",
    "        \n",
    "        #Dropping NA Values.\n",
    "#       self.X.dropna(how='any', inplace=True)\n",
    "        \n",
    "        #Dummfying The Data\n",
    "        self.make_dummy_cols()\n",
    "        return self.X\n",
    "        \n",
    "    def fit(self, *args):\n",
    "        pass"
   ]
  },
  {
   "cell_type": "code",
   "execution_count": null,
   "metadata": {},
   "outputs": [],
   "source": [
    "cleaned_df = pd.read_csv(\"exported_dataframe.csv\")\n",
    "Clean_mod = Cleaner(salary_column='Salaries($)', X = cleaned_df, cols_to_drop=['Companies', 'Salaries($)']\n",
    "                   , columns_to_dummify = ['State', 'Locations'] )\n",
    "X = Clean_mod.transform()\n",
    "y = X.pop('Salary_Class')"
   ]
  },
  {
   "cell_type": "code",
   "execution_count": null,
   "metadata": {},
   "outputs": [],
   "source": [
    "#Performing A Train Test Split.\n",
    "\n",
    "X_train, X_test, y_train, y_test = train_test_split(\n",
    "X, y, test_size=0.2, random_state=1, stratify=y)"
   ]
  },
  {
   "cell_type": "code",
   "execution_count": 30,
   "metadata": {},
   "outputs": [
    {
     "ename": "NameError",
     "evalue": "name 'BaseEstimator' is not defined",
     "output_type": "error",
     "traceback": [
      "\u001b[0;31m---------------------------------------------------------------------------\u001b[0m",
      "\u001b[0;31mNameError\u001b[0m                                 Traceback (most recent call last)",
      "\u001b[0;32m<ipython-input-30-f72c3360ff5b>\u001b[0m in \u001b[0;36m<module>\u001b[0;34m\u001b[0m\n\u001b[1;32m      3\u001b[0m \u001b[0;32mfrom\u001b[0m \u001b[0msklearn\u001b[0m\u001b[0;34m.\u001b[0m\u001b[0mfeature_extraction\u001b[0m\u001b[0;34m.\u001b[0m\u001b[0mtext\u001b[0m \u001b[0;32mimport\u001b[0m \u001b[0mTfidfVectorizer\u001b[0m\u001b[0;34m\u001b[0m\u001b[0;34m\u001b[0m\u001b[0m\n\u001b[1;32m      4\u001b[0m \u001b[0;34m\u001b[0m\u001b[0m\n\u001b[0;32m----> 5\u001b[0;31m \u001b[0;32mclass\u001b[0m \u001b[0mTFID_Vectorizer\u001b[0m\u001b[0;34m(\u001b[0m\u001b[0mBaseEstimator\u001b[0m\u001b[0;34m,\u001b[0m \u001b[0mTransformerMixin\u001b[0m\u001b[0;34m)\u001b[0m\u001b[0;34m:\u001b[0m\u001b[0;34m\u001b[0m\u001b[0;34m\u001b[0m\u001b[0m\n\u001b[0m\u001b[1;32m      6\u001b[0m \u001b[0;34m\u001b[0m\u001b[0m\n\u001b[1;32m      7\u001b[0m     \u001b[0;32mdef\u001b[0m \u001b[0m__init__\u001b[0m\u001b[0;34m(\u001b[0m\u001b[0mself\u001b[0m\u001b[0;34m,\u001b[0m \u001b[0mX\u001b[0m\u001b[0;34m,\u001b[0m \u001b[0mcols_to_vectorize\u001b[0m \u001b[0;34m=\u001b[0m \u001b[0;32mNone\u001b[0m\u001b[0;34m)\u001b[0m\u001b[0;34m:\u001b[0m\u001b[0;34m\u001b[0m\u001b[0;34m\u001b[0m\u001b[0m\n",
      "\u001b[0;31mNameError\u001b[0m: name 'BaseEstimator' is not defined"
     ]
    }
   ],
   "source": [
    "# Create a TFID_Vectorizer Helper Class For The Pipeline!\n",
    "\n",
    "from sklearn.feature_extraction.text import TfidfVectorizer\n",
    "\n",
    "class TFID_Vectorizer(BaseEstimator, TransformerMixin):\n",
    "    \n",
    "    def __init__(self, X, cols_to_vectorize = None):\n",
    "        self.cols_to_vectorize = cols_to_vectorize    \n",
    "        \n",
    "    def fit(self, X, y=None, *args):\n",
    "        self.tvec = TfidfVectorizer(stop_words='english')\n",
    "        self.fitted_results = self.tvec.fit(X[self.cols_to_vectorize])\n",
    "        return self.fitted_results\n",
    "    \n",
    "    def transform(self, X, y=None, *args):\n",
    "        if isinstance(X, pd.DataFrame):\n",
    "            X = self.fitted_results.transform(X[self.cols_to_vectorize])\n",
    "            return X\n",
    "        else:\n",
    "            return X"
   ]
  },
  {
   "cell_type": "code",
   "execution_count": 31,
   "metadata": {},
   "outputs": [
    {
     "ename": "NameError",
     "evalue": "name 'TFID_Vectorizer' is not defined",
     "output_type": "error",
     "traceback": [
      "\u001b[0;31m---------------------------------------------------------------------------\u001b[0m",
      "\u001b[0;31mNameError\u001b[0m                                 Traceback (most recent call last)",
      "\u001b[0;32m<ipython-input-31-1519e8daf10c>\u001b[0m in \u001b[0;36m<module>\u001b[0;34m\u001b[0m\n\u001b[0;32m----> 1\u001b[0;31m \u001b[0mtesting\u001b[0m \u001b[0;34m=\u001b[0m \u001b[0mTFID_Vectorizer\u001b[0m\u001b[0;34m(\u001b[0m\u001b[0mX\u001b[0m\u001b[0;34m,\u001b[0m \u001b[0mcols_to_vectorize\u001b[0m\u001b[0;34m=\u001b[0m\u001b[0;34m[\u001b[0m\u001b[0;34m'Titles'\u001b[0m\u001b[0;34m]\u001b[0m\u001b[0;34m)\u001b[0m\u001b[0;34m\u001b[0m\u001b[0;34m\u001b[0m\u001b[0m\n\u001b[0m",
      "\u001b[0;31mNameError\u001b[0m: name 'TFID_Vectorizer' is not defined"
     ]
    }
   ],
   "source": [
    "testing = TFID_Vectorizer(X, cols_to_vectorize=['Titles'])"
   ]
  },
  {
   "cell_type": "code",
   "execution_count": null,
   "metadata": {},
   "outputs": [],
   "source": [
    "testing.fit_transform(X_train)"
   ]
  },
  {
   "cell_type": "code",
   "execution_count": null,
   "metadata": {},
   "outputs": [],
   "source": [
    "testing.fitted_results"
   ]
  },
  {
   "cell_type": "code",
   "execution_count": null,
   "metadata": {},
   "outputs": [],
   "source": [
    "testing.tvec"
   ]
  },
  {
   "cell_type": "code",
   "execution_count": null,
   "metadata": {},
   "outputs": [],
   "source": [
    "testing.transform(X_test)"
   ]
  },
  {
   "cell_type": "code",
   "execution_count": null,
   "metadata": {},
   "outputs": [],
   "source": [
    "#Stemming\n",
    "#Changing the paramatetrs min - max features\n",
    "#N-grams"
   ]
  },
  {
   "cell_type": "markdown",
   "metadata": {
    "focus": false,
    "id": "4fb29de2-5b98-474c-a4ad-5170b72b9aea"
   },
   "source": [
    "<img src=\"http://imgur.com/xDpSobf.png\" style=\"float: left; margin: 25px 15px 0px 0px; height: 25px\">\n",
    "\n",
    "#### Bonus:\n",
    "\n",
    "- Answer the salary discussion by using your model to explain the tradeoffs between detecting high vs low salary positions. \n",
    "- Discuss the differences and explain when you want a high-recall or a high-precision model in this scenario.\n",
    "- Obtain the ROC/precision-recall curves for the different models you studied (at least the tuned model of each category) and compare."
   ]
  },
  {
   "cell_type": "code",
   "execution_count": null,
   "metadata": {
    "focus": false,
    "id": "068dc1cf-7fd7-4f27-a1f1-7f0a5a221d29"
   },
   "outputs": [],
   "source": [
    "## YOUR CODE HERE"
   ]
  },
  {
   "cell_type": "markdown",
   "metadata": {},
   "source": [
    "### Summarize your results in an executive summary written for a non-technical audience.\n",
    "   \n",
    "- Writeups should be at least 500-1000 words, defining any technical terms, explaining your approach, as well as any risks and limitations."
   ]
  },
  {
   "cell_type": "code",
   "execution_count": null,
   "metadata": {},
   "outputs": [],
   "source": [
    "## YOUR TEXT HERE IN MARKDOWN FORMAT "
   ]
  },
  {
   "cell_type": "markdown",
   "metadata": {},
   "source": [
    "<img src=\"http://imgur.com/xDpSobf.png\" style=\"float: left; margin: 25px 15px 0px 0px; height: 25px\">\n",
    "\n",
    "### BONUS\n",
    "\n",
    "Convert your executive summary into a public blog post of at least 500 words, in which you document your approach in a tutorial for other aspiring data scientists. Link to this in your notebook."
   ]
  },
  {
   "cell_type": "code",
   "execution_count": null,
   "metadata": {},
   "outputs": [],
   "source": [
    "## YOUR LINK HERE IN MARKDOWN FORMAT "
   ]
  }
 ],
 "metadata": {
  "kernelspec": {
   "display_name": "Python 3",
   "language": "python",
   "name": "python3"
  },
  "language_info": {
   "codemirror_mode": {
    "name": "ipython",
    "version": 3
   },
   "file_extension": ".py",
   "mimetype": "text/x-python",
   "name": "python",
   "nbconvert_exporter": "python",
   "pygments_lexer": "ipython3",
   "version": "3.7.3"
  },
  "toc": {
   "base_numbering": 1,
   "nav_menu": {},
   "number_sections": false,
   "sideBar": true,
   "skip_h1_title": true,
   "title_cell": "Table of Contents",
   "title_sidebar": "Contents",
   "toc_cell": false,
   "toc_position": {},
   "toc_section_display": "block",
   "toc_window_display": false
  }
 },
 "nbformat": 4,
 "nbformat_minor": 1
}
